{
 "cells": [
  {
   "cell_type": "code",
   "execution_count": 1,
   "metadata": {},
   "outputs": [],
   "source": [
    "import cv2\n",
    "import numpy as np\n",
    "import face_detection.face_detection as face_detection\n",
    "import os\n",
    "import sys\n",
    "\n",
    "def Image(path):\n",
    "\tface_detector = face_detection.FaceDetector()\n",
    "\tframe = cv2.imread(path)\n",
    "\tannotated_frame = face_detector.draw(frame)\n",
    "\tcv2.imshow('faces',annotated_frame)\n",
    "\tcv2.waitKey(0)\n",
    "\n",
    "def Video():\n",
    "\tface_detector = face_detection.FaceDetector()\n",
    "\tcap = cv2.VideoCapture(0)\n",
    "\twhile not cap.isOpened():\n",
    "\t\tcap = cv2.VideoCapture(0)\n",
    "\t\tcv2.waitKey(1000)\n",
    "\tlabel = ''\n",
    "\tcntr = 1\n",
    "\twhile True:\n",
    "\t\tflag, frame = cap.read()\n",
    "\t\tif flag:\n",
    "\t\t\tframe = cv2.flip(frame,1)\n",
    "\t\t\tannotated_frame = face_detector.draw(frame)\n",
    "\t\t\tcv2.imshow('camera_feed',annotated_frame)\n",
    "\t\t\t#cv2.imshow('input',frame[100:300,400:600])\n",
    "\t\t\t\n",
    "\t\telse:\n",
    "\t\t\tcv2.waitKey(1000)\n",
    "\t\tk = cv2.waitKey(5)\n",
    "\t\tif k == 27:\n",
    "\t\t\tbreak\n",
    "\n",
    "if __name__ == \"__main__\":\n",
    "\tVideo()\n",
    "\tcv2.destroyAllWindows()\n"
   ]
  },
  {
   "cell_type": "code",
   "execution_count": null,
   "metadata": {},
   "outputs": [],
   "source": []
  }
 ],
 "metadata": {
  "kernelspec": {
   "display_name": "Python 3.10.5 ('env')",
   "language": "python",
   "name": "python3"
  },
  "language_info": {
   "codemirror_mode": {
    "name": "ipython",
    "version": 3
   },
   "file_extension": ".py",
   "mimetype": "text/x-python",
   "name": "python",
   "nbconvert_exporter": "python",
   "pygments_lexer": "ipython3",
   "version": "3.10.5"
  },
  "orig_nbformat": 4,
  "vscode": {
   "interpreter": {
    "hash": "48a568ea9599ca3bb77ef6ef97d309ba6907d878e39734d2330d7e905c16ba69"
   }
  }
 },
 "nbformat": 4,
 "nbformat_minor": 2
}
