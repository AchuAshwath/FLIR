{
 "cells": [
  {
   "cell_type": "code",
   "execution_count": 41,
   "metadata": {},
   "outputs": [
    {
     "name": "stdout",
     "output_type": "stream",
     "text": [
      "D://achu/programs/face_rec/face-recognition-master/images\n",
      "person1\n",
      "person2\n",
      "person3\n",
      "person4\n",
      "person5\n"
     ]
    }
   ],
   "source": [
    "# Python program to rename all file\n",
    "# names in your directory\n",
    "import os\n",
    "os.chdir('D://achu/programs/face_rec/face-recognition-master/images')\n",
    "dir = 'D://achu/programs/face_rec/face-recognition-master/images'\n",
    "print(dir)\n",
    " \n",
    "for counter, f in enumerate(os.listdir()):\n",
    "    print(f)\n",
    "    os.chdir(dir+'/'+f+'/')\n",
    "    for count, p in enumerate(os.listdir()):\n",
    "        f_name, f_ext = os.path.splitext(p)\n",
    "        f_name = str(f)+'_'+str(count)\n",
    "        new_name = f'{f_name}{f_ext}'\n",
    "        os.rename(p, new_name)\n",
    "\n"
   ]
  },
  {
   "cell_type": "code",
   "execution_count": 2,
   "metadata": {},
   "outputs": [
    {
     "ename": "SyntaxError",
     "evalue": "invalid syntax (<ipython-input-2-b40c44e899c4>, line 1)",
     "output_type": "error",
     "traceback": [
      "\u001b[1;36m  File \u001b[1;32m\"<ipython-input-2-b40c44e899c4>\"\u001b[1;36m, line \u001b[1;32m1\u001b[0m\n\u001b[1;33m    set PYTHONPATH = get_ipython().run_line_magic('PYTHONPATH%;D:/achu/programs/face_rec/face-recognition-master/', '')\u001b[0m\n\u001b[1;37m        ^\u001b[0m\n\u001b[1;31mSyntaxError\u001b[0m\u001b[1;31m:\u001b[0m invalid syntax\n"
     ]
    }
   ],
   "source": [
    "cd "
   ]
  },
  {
   "cell_type": "code",
   "execution_count": 1,
   "metadata": {},
   "outputs": [
    {
     "ename": "ModuleNotFoundError",
     "evalue": "No module named 'joblib'",
     "output_type": "error",
     "traceback": [
      "\u001b[1;31m---------------------------------------------------------------------------\u001b[0m",
      "\u001b[1;31mModuleNotFoundError\u001b[0m                       Traceback (most recent call last)",
      "\u001b[1;32md:\\achu\\programs\\face_rec\\face-recognition-master\\inference\\face_rec.ipynb Cell 3'\u001b[0m in \u001b[0;36m<cell line: 4>\u001b[1;34m()\u001b[0m\n\u001b[0;32m      <a href='vscode-notebook-cell:/d%3A/achu/programs/face_rec/face-recognition-master/inference/face_rec.ipynb#ch0000002?line=1'>2</a>\u001b[0m \u001b[39mimport\u001b[39;00m \u001b[39mos\u001b[39;00m \n\u001b[0;32m      <a href='vscode-notebook-cell:/d%3A/achu/programs/face_rec/face-recognition-master/inference/face_rec.ipynb#ch0000002?line=2'>3</a>\u001b[0m os\u001b[39m.\u001b[39mchdir(\u001b[39m'\u001b[39m\u001b[39mD://achu/programs/face_rec/face-recognition-master\u001b[39m\u001b[39m'\u001b[39m)\n\u001b[1;32m----> <a href='vscode-notebook-cell:/d%3A/achu/programs/face_rec/face-recognition-master/inference/face_rec.ipynb#ch0000002?line=3'>4</a>\u001b[0m \u001b[39mimport\u001b[39;00m \u001b[39mjoblib\u001b[39;00m\n\u001b[0;32m      <a href='vscode-notebook-cell:/d%3A/achu/programs/face_rec/face-recognition-master/inference/face_rec.ipynb#ch0000002?line=4'>5</a>\u001b[0m \u001b[39mimport\u001b[39;00m \u001b[39mcv2\u001b[39;00m\n\u001b[0;32m      <a href='vscode-notebook-cell:/d%3A/achu/programs/face_rec/face-recognition-master/inference/face_rec.ipynb#ch0000002?line=5'>6</a>\u001b[0m \u001b[39mimport\u001b[39;00m \u001b[39mnumpy\u001b[39;00m \u001b[39mas\u001b[39;00m \u001b[39mnp\u001b[39;00m\n",
      "\u001b[1;31mModuleNotFoundError\u001b[0m: No module named 'joblib'"
     ]
    }
   ],
   "source": [
    "#!/usr/bin/env python\n",
    "import os \n",
    "os.chdir('D://achu/programs/face_rec/face-recognition-master')\n",
    "import joblib\n",
    "import cv2\n",
    "import numpy as np\n",
    "from PIL import Image\n",
    "from face_recognition import preprocessing\n",
    "\n",
    "\n",
    "from PIL import ImageDraw, ImageFont\n",
    "\n",
    "\n",
    "def draw_bb_on_img(faces, img):\n",
    "    draw = ImageDraw.Draw(img)\n",
    "    fs = max(20, round(img.size[0] * img.size[1] * 0.000005))\n",
    "    font = ImageFont.truetype('fonts/font.ttf', fs)\n",
    "    margin = 5\n",
    "\n",
    "    for face in faces:\n",
    "        text = \"%s %.2f%%\" % (face.top_prediction.label.upper(), face.top_prediction.confidence * 100)\n",
    "        text_size = font.getsize(text)\n",
    "\n",
    "        # bounding box\n",
    "        draw.rectangle(\n",
    "            (\n",
    "                (int(face.bb.left), int(face.bb.top)),\n",
    "                (int(face.bb.right), int(face.bb.bottom))\n",
    "            ),\n",
    "            outline='green',\n",
    "            width=2\n",
    "        )\n",
    "\n",
    "        # text background\n",
    "        draw.rectangle(\n",
    "            (\n",
    "                (int(face.bb.left - margin), int(face.bb.bottom) + margin),\n",
    "                (int(face.bb.left + text_size[0] + margin), int(face.bb.bottom) + text_size[1] + 3 * margin)\n",
    "            ),\n",
    "            fill='black'\n",
    "        )\n",
    "\n",
    "        # text\n",
    "        draw.text(\n",
    "            (int(face.bb.left), int(face.bb.bottom) + 2 * margin),\n",
    "            text,\n",
    "            font=font\n",
    "        )\n",
    "\n",
    "def main():\n",
    "    cap = cv2.VideoCapture(0)\n",
    "    face_recogniser = joblib.load(\"D:/achu/programs/face_rec/face-recognition-master/tasks/model/face_recogniser.pkl\")\n",
    "    preprocess = preprocessing.ExifOrientationNormalize()\n",
    "\n",
    "    while True:\n",
    "        # Capture frame-by-frame\n",
    "        ret, frame = cap.read()\n",
    "        frame = cv2.flip(frame, 1)\n",
    "\n",
    "        img = Image.fromarray(frame)\n",
    "        faces = face_recogniser(preprocess(img))\n",
    "        if faces is not None:\n",
    "            draw_bb_on_img(faces, img)\n",
    "\n",
    "        # Display the resulting frame\n",
    "        cv2.imshow('video', np.array(img))\n",
    "        if cv2.waitKey(1) & 0xFF == ord('q'):\n",
    "            break\n",
    "\n",
    "    # When everything done, release the captureq\n",
    "    cap.release()\n",
    "    cv2.destroyAllWindows()\n",
    "\n",
    "\n",
    "if __name__ == '__main__':\n",
    "    main()\n",
    "\n"
   ]
  },
  {
   "cell_type": "code",
   "execution_count": 3,
   "metadata": {},
   "outputs": [
    {
     "name": "stdout",
     "output_type": "stream",
     "text": [
      "Looking in indexes: https://pypi.org/simple, https://pypi.ngc.nvidia.com\n",
      "Collecting numpy==1.16.4\n",
      "  Downloading numpy-1.16.4.zip (5.1 MB)\n",
      "     ---------------------------------------- 5.1/5.1 MB 7.0 MB/s eta 0:00:00\n",
      "  Preparing metadata (setup.py): started\n",
      "  Preparing metadata (setup.py): finished with status 'done'\n",
      "Collecting Pillow==6.1.0\n",
      "  Downloading Pillow-6.1.0.tar.gz (33.8 MB)\n",
      "     ---------------------------------------- 33.8/33.8 MB 5.5 MB/s eta 0:00:00\n",
      "  Preparing metadata (setup.py): started\n",
      "  Preparing metadata (setup.py): finished with status 'done'\n",
      "Collecting dataset==1.1.2\n",
      "  Downloading dataset-1.1.2-py2.py3-none-any.whl (14 kB)\n",
      "Collecting facenet_pytorch==0.1.0\n",
      "  Downloading facenet_pytorch-0.1.0-py3-none-any.whl (1.9 MB)\n",
      "     ---------------------------------------- 1.9/1.9 MB 8.0 MB/s eta 0:00:00\n",
      "Collecting Flask==1.1.1\n",
      "  Downloading Flask-1.1.1-py2.py3-none-any.whl (94 kB)\n",
      "     ---------------------------------------- 94.5/94.5 KB 5.3 MB/s eta 0:00:00\n",
      "Collecting flask_restplus==0.13.0\n",
      "  Downloading flask_restplus-0.13.0-py2.py3-none-any.whl (2.5 MB)\n",
      "     ---------------------------------------- 2.5/2.5 MB 9.8 MB/s eta 0:00:00\n",
      "Collecting joblib==0.13.2\n",
      "  Downloading joblib-0.13.2-py2.py3-none-any.whl (278 kB)\n",
      "     -------------------------------------- 278.9/278.9 KB 5.7 MB/s eta 0:00:00\n",
      "Collecting matplotlib\n",
      "  Downloading matplotlib-3.5.2-cp310-cp310-win_amd64.whl (7.2 MB)\n",
      "     ---------------------------------------- 7.2/7.2 MB 7.5 MB/s eta 0:00:00\n",
      "Collecting seaborn==0.9.0\n",
      "  Downloading seaborn-0.9.0-py3-none-any.whl (208 kB)\n",
      "     ------------------------------------- 208.1/208.1 KB 12.4 MB/s eta 0:00:00\n",
      "Collecting scikit_learn==0.21.3\n",
      "  Downloading scikit-learn-0.21.3.tar.gz (12.2 MB)\n",
      "     ---------------------------------------- 12.2/12.2 MB 8.3 MB/s eta 0:00:00\n",
      "  Preparing metadata (setup.py): started\n",
      "  Preparing metadata (setup.py): finished with status 'done'\n",
      "Collecting torch\n",
      "  Downloading torch-1.11.0-cp310-cp310-win_amd64.whl (158.0 MB)\n",
      "     -------------------------------------- 158.0/158.0 MB 4.3 MB/s eta 0:00:00\n",
      "Collecting torchvision\n",
      "  Downloading torchvision-0.12.0-cp310-cp310-win_amd64.whl (1.0 MB)\n",
      "     ---------------------------------------- 1.0/1.0 MB 3.6 MB/s eta 0:00:00\n",
      "Collecting Werkzeug\n",
      "  Downloading Werkzeug-2.1.2-py3-none-any.whl (224 kB)\n",
      "     -------------------------------------- 224.9/224.9 KB 3.5 MB/s eta 0:00:00\n",
      "Collecting opencv-python\n",
      "  Downloading opencv_python-4.5.5.64-cp36-abi3-win_amd64.whl (35.4 MB)\n",
      "     ---------------------------------------- 35.4/35.4 MB 7.0 MB/s eta 0:00:00\n",
      "Collecting uWSGI==2.0.18\n",
      "  Downloading uwsgi-2.0.18.tar.gz (801 kB)\n",
      "     -------------------------------------- 801.6/801.6 KB 3.6 MB/s eta 0:00:00\n",
      "  Preparing metadata (setup.py): started\n",
      "  Preparing metadata (setup.py): finished with status 'error'\n",
      "Note: you may need to restart the kernel to use updated packages.\n"
     ]
    },
    {
     "name": "stderr",
     "output_type": "stream",
     "text": [
      "  error: subprocess-exited-with-error\n",
      "  \n",
      "  × python setup.py egg_info did not run successfully.\n",
      "  │ exit code: 1\n",
      "  ╰─> [8 lines of output]\n",
      "      Traceback (most recent call last):\n",
      "        File \"<string>\", line 2, in <module>\n",
      "        File \"<pip-setuptools-caller>\", line 34, in <module>\n",
      "        File \"C:\\Users\\anush\\AppData\\Local\\Temp\\pip-install-9cr11lcn\\uwsgi_33a8f4a7c16f4c3baba8dec754a5ba4e\\setup.py\", line 3, in <module>\n",
      "          import uwsgiconfig as uc\n",
      "        File \"C:\\Users\\anush\\AppData\\Local\\Temp\\pip-install-9cr11lcn\\uwsgi_33a8f4a7c16f4c3baba8dec754a5ba4e\\uwsgiconfig.py\", line 8, in <module>\n",
      "          uwsgi_os = os.uname()[0]\n",
      "      AttributeError: module 'os' has no attribute 'uname'. Did you mean: 'name'?\n",
      "      [end of output]\n",
      "  \n",
      "  note: This error originates from a subprocess, and is likely not a problem with pip.\n",
      "error: metadata-generation-failed\n",
      "\n",
      "× Encountered error while generating package metadata.\n",
      "╰─> See above for output.\n",
      "\n",
      "note: This is an issue with the package mentioned above, not pip.\n",
      "hint: See above for details.\n",
      "WARNING: You are using pip version 22.0.4; however, version 22.1 is available.\n",
      "You should consider upgrading via the 'd:\\achu\\programs\\face_rec\\face-recognition-master\\env\\Scripts\\python.exe -m pip install --upgrade pip' command.\n"
     ]
    }
   ],
   "source": [
    "pip install -r requirements.txt"
   ]
  },
  {
   "cell_type": "code",
   "execution_count": null,
   "metadata": {},
   "outputs": [],
   "source": []
  }
 ],
 "metadata": {
  "interpreter": {
   "hash": "57c0db8031b86f507f50e06200801ff8c37ef82e9de36e2efd0ebb8f22de7261"
  },
  "kernelspec": {
   "display_name": "Python 3.10.4 ('env': venv)",
   "language": "python",
   "name": "python3"
  },
  "language_info": {
   "codemirror_mode": {
    "name": "ipython",
    "version": 3
   },
   "file_extension": ".py",
   "mimetype": "text/x-python",
   "name": "python",
   "nbconvert_exporter": "python",
   "pygments_lexer": "ipython3",
   "version": "3.10.4"
  },
  "orig_nbformat": 4
 },
 "nbformat": 4,
 "nbformat_minor": 2
}
